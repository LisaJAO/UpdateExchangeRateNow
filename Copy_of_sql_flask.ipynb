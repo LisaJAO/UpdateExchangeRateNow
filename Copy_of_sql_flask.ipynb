{
  "nbformat": 4,
  "nbformat_minor": 0,
  "metadata": {
    "colab": {
      "name": "Copy of sql_flask.ipynb",
      "provenance": [],
      "collapsed_sections": [],
      "toc_visible": true,
      "include_colab_link": true
    },
    "kernelspec": {
      "name": "python3",
      "display_name": "Python 3"
    }
  },
  "cells": [
    {
      "cell_type": "markdown",
      "metadata": {
        "id": "view-in-github",
        "colab_type": "text"
      },
      "source": [
        "<a href=\"https://colab.research.google.com/github/LisaJAO/UpdateExchangeRateNow/blob/master/Copy_of_sql_flask.ipynb\" target=\"_parent\"><img src=\"https://colab.research.google.com/assets/colab-badge.svg\" alt=\"Open In Colab\"/></a>"
      ]
    },
    {
      "cell_type": "markdown",
      "metadata": {
        "id": "1IhN2BgUGzDJ",
        "colab_type": "text"
      },
      "source": [
        "# SQL"
      ]
    },
    {
      "cell_type": "markdown",
      "metadata": {
        "id": "zIR4hP4zKpqX",
        "colab_type": "text"
      },
      "source": [
        "## 為什麼要用資料庫？\n",
        "- 可以隨心所欲的做資料的存取\n",
        "- 當資料龐大時，處理效率比直接對檔案IO快上許多\n",
        "- 方便跟各種服務系統串接"
      ]
    },
    {
      "cell_type": "markdown",
      "metadata": {
        "id": "Rc4UK_DYMoDF",
        "colab_type": "text"
      },
      "source": [
        "## 資料庫種類\n",
        "- 關聯式資料庫：資料欄位須先定義清楚、穩定\n",
        "- 非關聯式資料庫：資料擁有彈性結構、速度較快"
      ]
    },
    {
      "cell_type": "markdown",
      "metadata": {
        "id": "EJY_Gh5yLYIN",
        "colab_type": "text"
      },
      "source": [
        "## 常見的關聯式資料庫種類\n",
        "- MySQL：免費、開源性質、常應用於Web，較適合中小型企業事務\n",
        "- PostgreSQL：免費、開源、以商業應用導向為主\n",
        "- MSSQL：Microsoft SQL Server，only on Windows，花錢就能買的完整方案。\n",
        "- Oracle：公部門常用的資料庫系統，安全、效能、功能都極為齊全。\n",
        "- SQLite：基於文件的資料庫，不需要架設伺服器，就能處理各種類數據。"
      ]
    },
    {
      "cell_type": "markdown",
      "metadata": {
        "id": "8KGQvub4MVKx",
        "colab_type": "text"
      },
      "source": [
        "## 常見的非關聯式資料庫種類\n",
        "- MongoDB\n",
        "- Couchbase\n",
        "- Cassandra\n",
        "- Redis\n",
        "- memcache\n",
        "- HBase\n",
        "- Neo4J\n",
        "  \n",
        "![](http://image.slidesharecdn.com/mongodbrdbmsmigrationwebinar-140202060406-phpapp02/95/migrating-from-relational-databases-to-mongodb-10-638.jpg?cb=1391321199)"
      ]
    },
    {
      "cell_type": "markdown",
      "metadata": {
        "id": "BOMf6EWuG0RH",
        "colab_type": "text"
      },
      "source": [
        "## SQLite"
      ]
    },
    {
      "cell_type": "markdown",
      "metadata": {
        "id": "IGFD4jwYOhwL",
        "colab_type": "text"
      },
      "source": [
        "``` python\n",
        "import sqlite3\n",
        "conn = sqlite3.connect('資料庫名稱.db') \n",
        "sql = \"......\"\n",
        "cursor = conn.execute(sql_ins)\n",
        "cursor = conn.commit() ###  會修改到資料的必須要多寫此行\n",
        "conn.close()\n",
        "```"
      ]
    },
    {
      "cell_type": "markdown",
      "metadata": {
        "id": "N6gxe9inIrtE",
        "colab_type": "text"
      },
      "source": [
        "### 建立資料庫/資料表\n",
        "- 建立資料庫(Database/DB)：`資料庫.db`\n",
        "- 建立資料表(Table)：\n",
        "\n",
        "SQLite 型別\n",
        "- INTEGER：整數\n",
        "- REAL：浮點數\n",
        "- TEXT：文字\n",
        "- BLOB：原始資料\n",
        "  \n",
        "``` mysql\n",
        "CREATE TABLE `資料表` (\n",
        "\t`欄位1`\t型別,\n",
        "\t`欄位2`\t型別,\n",
        "\t`.....\n",
        ")\n",
        "```"
      ]
    },
    {
      "cell_type": "code",
      "metadata": {
        "id": "HXd7HGX0KVvv",
        "colab_type": "code",
        "colab": {}
      },
      "source": [
        "import sqlite3\n",
        "conn = sqlite3.connect('stocks.db') # 如果資料庫不存在，會自動幫你建立\n",
        "sql_create_table = \"\"\"\n",
        "CREATE TABLE `stock_date` (\n",
        "\t`stock_id`\tINTEGER,\n",
        "\t`date`\tTEXT,\n",
        "\t`open`\tREAL,\n",
        "\t`high`\tREAL,\n",
        "\t`low`\tREAL,\n",
        "\t`close`\tREAL,\n",
        "\t`volume`\tINTEGER\n",
        ")\n",
        "\"\"\"\n",
        "cursor = conn.execute(sql_create_table)\n",
        "conn.close()"
      ],
      "execution_count": 0,
      "outputs": []
    },
    {
      "cell_type": "markdown",
      "metadata": {
        "id": "bo1_1DHDJcrK",
        "colab_type": "text"
      },
      "source": [
        "##### [練習]\n",
        "- 寫出 建立資料表 stock_list 的 sqlite 語法\n",
        "    - 股票代號 stock_id\n",
        "    - 股票名稱 name\n",
        "    - 想想看以上欄位要用什麼型別"
      ]
    },
    {
      "cell_type": "markdown",
      "metadata": {
        "id": "69a9gYGDOy9W",
        "colab_type": "text"
      },
      "source": [
        "## CRUD"
      ]
    },
    {
      "cell_type": "markdown",
      "metadata": {
        "id": "gGoP-0kgO_Xy",
        "colab_type": "text"
      },
      "source": [
        "### Create 新增資料\n",
        "``` mysql\n",
        "INSERT INTO `資料表` (`欄位1`, `欄位2`, ...)\n",
        "VALUES (值1, 值2, )\n",
        "```"
      ]
    },
    {
      "cell_type": "code",
      "metadata": {
        "id": "EnAUH4JOO2u2",
        "colab_type": "code",
        "colab": {}
      },
      "source": [
        "import sqlite3\n",
        "conn = sqlite3.connect('stocks.db')\n",
        "sql_ins = \"\"\"\n",
        "    INSERT INTO `stock_date` (`stock_id`, `date`, `open`, `high`, `low`, `close`, `volume`)  \n",
        "    VALUES ( 2330 ,'2020-03-03', 318.5, 320, 316, 317.5, 55169 )\n",
        "\"\"\"\n",
        "cursor = conn.execute(sql_ins)\n",
        "cursor = conn.commit()\n",
        "conn.close()"
      ],
      "execution_count": 0,
      "outputs": []
    },
    {
      "cell_type": "markdown",
      "metadata": {
        "id": "70sueVj6mjT5",
        "colab_type": "text"
      },
      "source": [
        "#### [練習]\n",
        "將以下資料加入資料庫\n",
        "- 要加上股票代號\n",
        "- 日期要轉格式\n",
        "- 型別轉換(好的習慣)\n"
      ]
    },
    {
      "cell_type": "code",
      "metadata": {
        "id": "Q56JDBJxirKs",
        "colab_type": "code",
        "colab": {}
      },
      "source": [
        "datas_2330 = [\n",
        "    ['2020/03/02', '308', '317', '308', '311', '86373'],\n",
        "    ['2020/03/03', '318.5', '320', '316', '317.5', '55169'],\n",
        "    ['2020/03/04', '322', '322', '317', '320.5', '44745'],\n",
        "    ['2020/03/05', '325', '326', '323', '323', '38224'],\n",
        "    ['2020/03/06', '320', '320.5', '315', '315', '52808']\n",
        "]\n",
        "datas_2317 = [\n",
        "    ['2020/03/02', '78.2', '80.3', '78.1', '79.2', '54992'],\n",
        "    ['2020/03/03', '81.1', '82', '80.6', '81', '34822'],\n",
        "    ['2020/03/04', '81.5', '81.9', '81.1', '81.7', '29908'],\n",
        "    ['2020/03/05', '83.3', '83.6', '82.6', '82.7', '36950'],\n",
        "    ['2020/03/06', '81.6', '81.7', '80.7', '80.8', '38713']\n",
        "]"
      ],
      "execution_count": 0,
      "outputs": []
    },
    {
      "cell_type": "markdown",
      "metadata": {
        "id": "Xcx69GhqO4R-",
        "colab_type": "text"
      },
      "source": [
        "### Read 讀取資料 \n",
        "``` mysql\n",
        "SELECT `欄位1`, `欄位2`, ...\n",
        "FROM `資料表`\n",
        "WHERE 條件1 and/or 條件2 ....\n",
        "ORDER BY 排序方式1, 排序方式2\n",
        "LIMIT 筆數限制\n",
        "```\n",
        "- 顯示欄位：\n",
        "    - 全選所有資料表內的欄位 `SELECT * `\n",
        "    - 可自訂新欄位(運算符號和Python相同) `SELECT 欄位1, (欄位1-欄位2)*100/欄位2`\n",
        "    - 可自訂順序(不需要跟資料表順序一致)\n",
        "- 條件：\n",
        "    - 數值比較符號大致上和Python相同，\n",
        "        - 比較兩邊相等：`=`\n",
        "        - 沒有整除、次方運算子(要用[函式](https://www.w3schools.com/sql/sql_ref_mysql.asp))\n",
        "- 排序方式：\n",
        "    - DESC 倒序(大->小)排序\n",
        "    - ASC 正序(小->大)排序(可省略不寫)"
      ]
    },
    {
      "cell_type": "code",
      "metadata": {
        "id": "UtKACt5KPJ7x",
        "colab_type": "code",
        "colab": {}
      },
      "source": [
        "import sqlite3\n",
        "conn = sqlite3.connect('stocks.db')\n",
        "sql = \"\"\"\n",
        "    SELECT `stock_id`,`date`,`open`,`close`,`high`,`low`,`volume`, `volume`*1000\n",
        "    FROM `stock_date`\n",
        "    WHERE `date` = '2020-03-03' or `volume` >= 40000\n",
        "    ORDER BY `stock_id` DESC, `date`\n",
        "\"\"\"\n",
        "cursor = conn.execute(sql)\n",
        "for row in cursor.fetchall():\n",
        "    print(row)\n",
        "conn.close()"
      ],
      "execution_count": 0,
      "outputs": []
    },
    {
      "cell_type": "markdown",
      "metadata": {
        "id": "tU8pVl2OPzCR",
        "colab_type": "text"
      },
      "source": [
        "#### [練習]\n",
        "列出 台積電(2330) 2020-03-04 之後的 每日資訊\n",
        "- 日期\n",
        "- 開盤、收盤、最高、最低\n",
        "- 均價 CDP：(最高+最低+2*收盤) / 4\n",
        "- 列出擁有最大「最高價」的兩筆資料"
      ]
    },
    {
      "cell_type": "markdown",
      "metadata": {
        "id": "RL-NUTI6PKs_",
        "colab_type": "text"
      },
      "source": [
        "### Update 更新資料\n",
        "``` mysql\n",
        "UPDATE `資料表`\n",
        "SET `欄位1`=值1, `欄位2`=值2, ...\n",
        "WHERE 條件1 and/or 條件2 ....\n",
        "```"
      ]
    },
    {
      "cell_type": "code",
      "metadata": {
        "id": "zuic5XnKjLz3",
        "colab_type": "code",
        "colab": {}
      },
      "source": [
        "import sqlite3\n",
        "conn = sqlite3.connect('stocks.db')\n",
        "sql_upd = \"\"\"\n",
        "    UPDATE `stock_date`\n",
        "    SET `open`=`open`+1000, `close`=900\n",
        "    WHERE `stock_id` = 2330 and `date` = '2020-03-03'\n",
        "\"\"\"\n",
        "cursor = conn.execute(sql_upd)\n",
        "cursor = conn.commit()\n",
        "conn.close()"
      ],
      "execution_count": 0,
      "outputs": []
    },
    {
      "cell_type": "code",
      "metadata": {
        "id": "8wx3BofiPN_f",
        "colab_type": "code",
        "colab": {}
      },
      "source": [
        "import sqlite3\n",
        "conn = sqlite3.connect('stocks.db')\n",
        "sql = \"\"\"\n",
        "    SELECT * \n",
        "    FROM `stock_date`\n",
        "    WHERE `stock_id` = 2330 and `date` = '2020-03-03'\n",
        "\"\"\"\n",
        "cursor = conn.execute(sql)\n",
        "for row in cursor.fetchall():\n",
        "    print(row)\n",
        "conn.close()"
      ],
      "execution_count": 0,
      "outputs": []
    },
    {
      "cell_type": "markdown",
      "metadata": {
        "id": "B1TSoIGgPOp2",
        "colab_type": "text"
      },
      "source": [
        "### Delete 刪除資料\n",
        "``` mysql\n",
        "DELETE \n",
        "FROM `資料表`\n",
        "WHERE 條件1 and/or 條件2 ....\n",
        "```"
      ]
    },
    {
      "cell_type": "code",
      "metadata": {
        "id": "P3C-3OiYPRkk",
        "colab_type": "code",
        "colab": {}
      },
      "source": [
        "import sqlite3\n",
        "conn = sqlite3.connect('stocks.db')\n",
        "sql_upd = \"\"\"\n",
        "    DELETE \n",
        "    FROM `stock_date`\n",
        "    WHERE `stock_id` = 2330 and `date` = '2020-03-03'\n",
        "\"\"\"\n",
        "cursor = conn.execute(sql_upd)\n",
        "cursor = conn.commit()\n",
        "conn.close()"
      ],
      "execution_count": 0,
      "outputs": []
    },
    {
      "cell_type": "code",
      "metadata": {
        "id": "tczlQhE2j1gX",
        "colab_type": "code",
        "colab": {}
      },
      "source": [
        "import sqlite3\n",
        "conn = sqlite3.connect('stocks.db')\n",
        "sql = \"\"\"\n",
        "    SELECT * \n",
        "    FROM `stock_date`\n",
        "\"\"\"\n",
        "cursor = conn.execute(sql)\n",
        "for row in cursor.fetchall():\n",
        "    print(row)\n",
        "conn.close()"
      ],
      "execution_count": 0,
      "outputs": []
    },
    {
      "cell_type": "markdown",
      "metadata": {
        "id": "_Frte3hAm-wn",
        "colab_type": "text"
      },
      "source": [
        "### 處理重複資料\n",
        "- 新增資料的時候先檢查資料是否存在：`SELECT`\n",
        "- 設計資料庫：\n",
        "    - 新增一欄位讓所有資料各擁有一唯一代碼，\n",
        "        - 刪除時留下最小或最大的代碼：先用`SELECT`，再用`DELETE`\n",
        "    - 建立唯一值組合：`UNIQUE INDEX`\n",
        "        - 要先思考哪些欄位組合起來是唯一值"
      ]
    },
    {
      "cell_type": "code",
      "metadata": {
        "id": "bZ677Ry7lRjS",
        "colab_type": "code",
        "colab": {}
      },
      "source": [
        "import sqlite3\n",
        "conn = sqlite3.connect('stocks.db')\n",
        "sql_create_ui = \"\"\"\n",
        "    CREATE UNIQUE INDEX `id_date` ON `stock_date`(`stock_id`, `date`)\n",
        "\"\"\"\n",
        "cursor = conn.execute(sql_create_ui)\n",
        "cursor = conn.commit()\n",
        "conn.close()"
      ],
      "execution_count": 0,
      "outputs": []
    },
    {
      "cell_type": "code",
      "metadata": {
        "id": "Xair6-K2lA_1",
        "colab_type": "code",
        "colab": {}
      },
      "source": [
        "import sqlite3\n",
        "conn = sqlite3.connect('stocks.db')\n",
        "sql_ins = \"\"\"\n",
        "    INSERT INTO `stock_date` (`stock_id`, `date`, `open`, `high`, `low`, `close`, `volume`)  \n",
        "    VALUES ( 2330 ,'2020-03-03', 318.5, 320, 316, 317.5, 55169 )\n",
        "\"\"\"\n",
        "cursor = conn.execute(sql_ins)\n",
        "cursor = conn.commit()\n",
        "sql_ins2 = \"\"\"\n",
        "    INSERT INTO `stock_date` (`stock_id`, `date`, `open`, `high`, `low`, `close`, `volume`)  \n",
        "    VALUES ( 2330 ,'2020-03-03', 918.5, 320, 316, 317.5, 55169 )\n",
        "\"\"\"\n",
        "cursor = conn.execute(sql_ins2)\n",
        "cursor = conn.commit()\n",
        "conn.close()"
      ],
      "execution_count": 0,
      "outputs": []
    },
    {
      "cell_type": "code",
      "metadata": {
        "id": "wLrCS_37lOFi",
        "colab_type": "code",
        "colab": {}
      },
      "source": [
        "import sqlite3\n",
        "conn = sqlite3.connect('stocks.db')\n",
        "sql = \"\"\"\n",
        "    SELECT * \n",
        "    FROM `stock_date`\n",
        "\"\"\"\n",
        "cursor = conn.execute(sql)\n",
        "for row in cursor.fetchall():\n",
        "    print(row)\n",
        "conn.close()"
      ],
      "execution_count": 0,
      "outputs": []
    },
    {
      "cell_type": "markdown",
      "metadata": {
        "id": "OEzzA3sKG3I-",
        "colab_type": "text"
      },
      "source": [
        "## MySQL"
      ]
    },
    {
      "cell_type": "markdown",
      "metadata": {
        "id": "QhKdBU4Dvesj",
        "colab_type": "text"
      },
      "source": [
        "``` python\n",
        "import pymysql\n",
        "conn = pymysql.connect(host,account,passwd,dateabase)\n",
        "cursor = conn.cursor() \n",
        "sql = \"......\"\n",
        "cursor.execute(sql)\n",
        "cursor.commit()\n",
        "conn.close()\n",
        "```"
      ]
    },
    {
      "cell_type": "markdown",
      "metadata": {
        "id": "pv0ozFnNvzLQ",
        "colab_type": "text"
      },
      "source": [
        "### 環境設定"
      ]
    },
    {
      "cell_type": "code",
      "metadata": {
        "id": "8iGXETxDkARS",
        "colab_type": "code",
        "colab": {}
      },
      "source": [
        "!pip install PyMySQL"
      ],
      "execution_count": 0,
      "outputs": []
    },
    {
      "cell_type": "markdown",
      "metadata": {
        "id": "n77rV1ydwdxq",
        "colab_type": "text"
      },
      "source": [
        "### [IMDB 資料庫](https://relational.fit.cvut.cz/dataset/IMDb)\n",
        "![](https://relational.fit.cvut.cz/assets/img/datasets-generated/imdb_ijs.svg)\n"
      ]
    },
    {
      "cell_type": "markdown",
      "metadata": {
        "id": "0BScAhZRwYtm",
        "colab_type": "text"
      },
      "source": [
        "## INNER JOIN\n",
        "- 一對多關係\n",
        "    - 電影有很多演員\n",
        "- 資料單一地方管理\n",
        "    - `stock_list`：股票代碼、股票名稱\n",
        "    - `stock_date`：股票代碼、日期、各交易原始資訊\n",
        "    - 若股票名稱改名，改 `stock_list` 就好"
      ]
    },
    {
      "cell_type": "markdown",
      "metadata": {
        "id": "Ta4QLbJHyGbe",
        "colab_type": "text"
      },
      "source": [
        "``` mysql\n",
        "SELECT `資料表n`.`欄位1`, `資料表n`.`欄位2`, ...\n",
        "FROM `資料表1`\n",
        "INNER JOIN `資料表2` ON 關聯條件1 and/or 條件2\n",
        "WHERE 條件1 and/or 條件2 ....\n",
        "ORDER BY 排序方式1, 排序方式2\n",
        "LIMIT 筆數限制\n",
        "```"
      ]
    },
    {
      "cell_type": "code",
      "metadata": {
        "id": "S4-FzcQrsEWZ",
        "colab_type": "code",
        "colab": {}
      },
      "source": [
        "import pymysql\n",
        "conn = pymysql.connect(\"relational.fit.cvut.cz\",\"guest\",\"relational\",\"imdb_ijs\")\n",
        "cursor = conn.cursor() \n",
        "sql = \"\"\"\n",
        "    SELECT \n",
        "        `movies`.`id`, \n",
        "        `movies`.`name`, \n",
        "        `movies`.`year`,\n",
        "        `actors`.`first_name`,\n",
        "        `actors`.`last_name`\n",
        "    FROM `movies` \n",
        "    INNER JOIN `roles` ON `movies`.`id` = `roles`.`movie_id`\n",
        "    INNER JOIN `actors` ON `roles`.`actor_id` = `actors`.`id`\n",
        "    WHERE `movies`.`year`>2000\n",
        "    ORDER BY `movies`.`year` DESC , `movies`.`id` \n",
        "    LIMIT 5\n",
        "\"\"\"\n",
        "cursor.execute(sql)\n",
        "names = tuple(description[0] for description in cursor.description)\n",
        "print(names)\n",
        "for row in cursor.fetchall():\n",
        "    print(row)\n",
        "conn.close()"
      ],
      "execution_count": 0,
      "outputs": []
    },
    {
      "cell_type": "markdown",
      "metadata": {
        "id": "m-vIHwZYTpqS",
        "colab_type": "text"
      },
      "source": [
        "## 學習資源\n",
        "- [w3school](https://www.w3schools.com/sql/default.asp)\n",
        "- [深入淺出 SQL](https://www.tenlong.com.tw/products/9789866840166)"
      ]
    },
    {
      "cell_type": "markdown",
      "metadata": {
        "id": "SKai6XR4MpQS",
        "colab_type": "text"
      },
      "source": [
        "# Flask"
      ]
    },
    {
      "cell_type": "markdown",
      "metadata": {
        "id": "PBZMw_I2RtZw",
        "colab_type": "text"
      },
      "source": [
        "## 為什麼要學架網站？\n",
        "- 讓任何人不限裝置/平台/系統，只要能上網，都能很方便且易使用\n",
        "- 網路爬蟲抓的就是網站，所以理解網站怎麼架設，對於增加爬蟲經驗會很有幫助\n",
        "\n",
        "## 為什麼要用 Flask ？\n",
        "- 容易上手\n",
        "- 輕量化"
      ]
    },
    {
      "cell_type": "markdown",
      "metadata": {
        "id": "rnBoI7b_MhVd",
        "colab_type": "text"
      },
      "source": [
        "## 環境設定"
      ]
    },
    {
      "cell_type": "code",
      "metadata": {
        "id": "s2YDrW1QIHXL",
        "colab_type": "code",
        "colab": {}
      },
      "source": [
        "!pip install flask-ngrok"
      ],
      "execution_count": 0,
      "outputs": []
    },
    {
      "cell_type": "markdown",
      "metadata": {
        "id": "PNqLvOkrC25x",
        "colab_type": "text"
      },
      "source": [
        "## 基本 route"
      ]
    },
    {
      "cell_type": "code",
      "metadata": {
        "id": "Vi7R-X6AIMQ_",
        "colab_type": "code",
        "colab": {}
      },
      "source": [
        "from flask_ngrok import run_with_ngrok\n",
        "from flask import Flask\n",
        "app = Flask(__name__)\n",
        "run_with_ngrok(app)   #starts ngrok when the app is run\n",
        "\n",
        "@app.route(\"/\")\n",
        "def home():\n",
        "    resp = \"Welcome to Stock Board <br> <a href='/stock'>進入股票頁</a>\"\n",
        "    return resp\n",
        "\n",
        "@app.route(\"/stock\")\n",
        "def stock():\n",
        "    stock_id = \"2330\"\n",
        "   \n",
        "    resp = \"\"\"\n",
        "        <h1>股票代碼: {}</h1>\n",
        "        <a href='/'>回首頁</a>\n",
        "        <table>\n",
        "            <thead>\n",
        "                <tr>\n",
        "                    <th>日期</th>\n",
        "                    <th>開盤價</th>\n",
        "                    <th>最高價</th>\n",
        "                    <th>最低價</th>\n",
        "                    <th>收盤價</th>\n",
        "                    <th>成交量</th>\n",
        "                </tr>\n",
        "            </thead>\n",
        "            <tbody>\n",
        "                <tr>\n",
        "                    <td>2020-03-02</td>\n",
        "                    <td>308</td>\n",
        "                    <td>317</td>\n",
        "                    <td>308</td>\n",
        "                    <td>311</td>\n",
        "                    <td>86373</td>\n",
        "                </tr>\n",
        "                <tr>\n",
        "                    <td>2020-03-03</td>\n",
        "                    <td>318.5</td>\n",
        "                    <td>320</td>\n",
        "                    <td>316</td>\n",
        "                    <td>317.5</td>\n",
        "                    <td>55169</td>\n",
        "                </tr>\n",
        "                <tr>\n",
        "                    <td>2020-03-04</td>\n",
        "                    <td>322</td>\n",
        "                    <td>322</td>\n",
        "                    <td>317</td>\n",
        "                    <td>320.5</td>\n",
        "                    <td>44745</td>\n",
        "                </tr>\n",
        "            </tbody>\n",
        "        </table>\n",
        "    \"\"\".format(stock_id)\n",
        "    return resp\n",
        "app.run()"
      ],
      "execution_count": 0,
      "outputs": []
    },
    {
      "cell_type": "code",
      "metadata": {
        "id": "JEfc3tqyK0wG",
        "colab_type": "code",
        "colab": {}
      },
      "source": [
        "from flask_ngrok import run_with_ngrok\n",
        "from flask import Flask\n",
        "app = Flask(__name__)\n",
        "run_with_ngrok(app)\n",
        "\n",
        "@app.route(\"/\")\n",
        "def home():\n",
        "    resp = \"Welcome to Stock Board <br> <a href='/stock'>進入股票頁</a>\"\n",
        "    return resp\n",
        "\n",
        "@app.route(\"/stock\")\n",
        "def stock():\n",
        "    stock_id = \"2330\"\n",
        "    datas_2330 = [\n",
        "        ['2020-03-02', 308, 317, 308, 311, 86373],\n",
        "        ['2020-03-03', 318.5, 320, 316, 317.5, 55169],\n",
        "        ['2020-03-04', 322, 322, 317, 320.5, 44745]\n",
        "    ]\n",
        "    html_data = \"\"\n",
        "    for row in datas_2330:\n",
        "        d, o, h, l, c, v = row\n",
        "        html_row = \"\"\"\n",
        "            <tr>\n",
        "                <td>{}</td>\n",
        "                <td>{}</td>\n",
        "                <td>{}</td>\n",
        "                <td>{}</td>\n",
        "                <td>{}</td>\n",
        "                <td>{}</td>\n",
        "            </tr>\"\"\".format(d, o, h, l, c, v)\n",
        "        html_data+=html_row\n",
        "    resp = \"\"\"\n",
        "        <h1>股票代碼: {}</h1>\n",
        "        <a href='/'>回首頁</a>\n",
        "        <table>\n",
        "            <thead>\n",
        "                <tr>\n",
        "                    <th>日期</th>\n",
        "                    <th>開盤價</th>\n",
        "                    <th>最高價</th>\n",
        "                    <th>最低價</th>\n",
        "                    <th>收盤價</th>\n",
        "                    <th>成交量</th>\n",
        "                </tr>\n",
        "            </thead>\n",
        "            <tbody>\n",
        "                {}\n",
        "            </tbody>\n",
        "        </table>\n",
        "    \"\"\".format(stock_id,html_data)\n",
        "    return resp\n",
        "app.run()"
      ],
      "execution_count": 0,
      "outputs": []
    },
    {
      "cell_type": "markdown",
      "metadata": {
        "id": "h141aXhuLVaA",
        "colab_type": "text"
      },
      "source": [
        "#### [練習]\n",
        "寫出股票列表頁：\n",
        "- 網址 stock_list\n",
        "- 有三列兩欄(股票代號、股票名)\n",
        "    - 2330 台積電\n",
        "    - 2317 鴻海\n",
        "    - 2412 中華電\n"
      ]
    },
    {
      "cell_type": "markdown",
      "metadata": {
        "id": "RVPZc7P9IQIN",
        "colab_type": "text"
      },
      "source": [
        "## Template\n",
        "- 新建資料夾 `templates`\n",
        "- 在 `templates` 資料夾中，新增檔案 `stock.html`"
      ]
    },
    {
      "cell_type": "markdown",
      "metadata": {
        "id": "K0xkYlvzPkI3",
        "colab_type": "text"
      },
      "source": [
        "templates/stock.html\n",
        "``` html\n",
        "<h1>股票代碼: {{ stock_id }}</h1>\n",
        "<a href='/'>回首頁</a>\n",
        "<table>\n",
        "    <thead>\n",
        "        <tr>\n",
        "            <th>日期</th>\n",
        "            <th>開盤價</th>\n",
        "            <th>最高價</th>\n",
        "            <th>最低價</th>\n",
        "            <th>收盤價</th>\n",
        "            <th>成交量</th>\n",
        "        </tr>\n",
        "    </thead>\n",
        "    <tbody>\n",
        "        {% for row in datas %}\n",
        "        <tr>\n",
        "            <td>{{ row[0] }}</td>\n",
        "            <td>{{ row[1] }}</td>\n",
        "            <td>{{ row[2] }}</td>\n",
        "            <td>{{ row[3] }}</td>\n",
        "            <td>{{ row[4] }}</td>\n",
        "            <td>{{ row[5] }}</td>\n",
        "        </tr>\n",
        "        {% endfor %}\n",
        "    </tbody>\n",
        "</table>\n",
        "```"
      ]
    },
    {
      "cell_type": "code",
      "metadata": {
        "id": "FHGckiu6HV5N",
        "colab_type": "code",
        "colab": {}
      },
      "source": [
        "from flask_ngrok import run_with_ngrok\n",
        "from flask import Flask, render_template\n",
        "app = Flask(__name__)\n",
        "run_with_ngrok(app)\n",
        "\n",
        "@app.route(\"/\")\n",
        "def home():\n",
        "    resp = \"Welcome to Stock Board <br> <a href='/stock'>進入股票頁</a>\"\n",
        "    return resp\n",
        "\n",
        "@app.route(\"/stock\")\n",
        "def stock():\n",
        "    stock_id = \"2330\"\n",
        "    datas = [\n",
        "        ['2020-03-02', 308, 317, 308, 311, 86373],\n",
        "        ['2020-03-03', 318.5, 320, 316, 317.5, 55169],\n",
        "        ['2020-03-04', 322, 322, 317, 320.5, 44745]\n",
        "    ]\n",
        "    return render_template(\"stock.html\", stock_id=stock_id, datas = datas)\n",
        "app.run()"
      ],
      "execution_count": 0,
      "outputs": []
    },
    {
      "cell_type": "markdown",
      "metadata": {
        "id": "kSv8mfW-MQYd",
        "colab_type": "text"
      },
      "source": [
        "#### [練習]\n",
        "將首頁也改成 Template (檔案名稱：index.html)"
      ]
    },
    {
      "cell_type": "markdown",
      "metadata": {
        "id": "GFQNiQuIEpME",
        "colab_type": "text"
      },
      "source": [
        "## Parameter"
      ]
    },
    {
      "cell_type": "code",
      "metadata": {
        "id": "1jFdHz6fEnkN",
        "colab_type": "code",
        "colab": {}
      },
      "source": [
        "from flask_ngrok import run_with_ngrok\n",
        "from flask import Flask, render_template\n",
        "from flask import request\n",
        "app = Flask(__name__)\n",
        "run_with_ngrok(app)\n",
        "\n",
        "def get_stock_datas(stock_id):\n",
        "    datas = [\n",
        "        ['2020-03-02', 308, 317, 308, 311, 86373],\n",
        "        ['2020-03-03', 318.5, 320, 316, 317.5, 55169],\n",
        "        ['2020-03-04', 322, 322, 317, 320.5, 44745]\n",
        "    ]\n",
        "    return datas\n",
        "\n",
        "@app.route(\"/\")\n",
        "def home():\n",
        "    resp = \"\"\"Welcome to Stock Board \n",
        "    <br> \n",
        "    <a href='/stock/2330'>進入2330股票頁(路徑)</a> \n",
        "    <br> \n",
        "    <a href='/stock?stock_id=2330'>進入2330股票頁(參數)</a>\n",
        "    \"\"\"\n",
        "    return resp\n",
        "\n",
        "@app.route(\"/stock/<stock_id>\")\n",
        "def get_stock_path(stock_id):\n",
        "    return render_template(\"stock.html\", stock_id=stock_id, datas = get_stock_datas(stock_id))\n",
        "\n",
        "@app.route(\"/stock\")\n",
        "def get_stock_param():\n",
        "    stock_id = request.args.get('stock_id')\n",
        "    return render_template(\"stock.html\", stock_id=stock_id, datas = get_stock_datas(stock_id))\n",
        "\n",
        "app.run()"
      ],
      "execution_count": 0,
      "outputs": []
    },
    {
      "cell_type": "markdown",
      "metadata": {
        "id": "FeROawSUQH3f",
        "colab_type": "text"
      },
      "source": [
        "#### [練習]\n",
        "- 增加一個參數 date_start\n",
        "    - 如果是走 get_stock_path ， url 是 `/stock/2330/XXX`\n",
        "    - 如果是走 get_stock_param ， url 是 `/stock?stock_id=2330&date_start=XXX`\n"
      ]
    },
    {
      "cell_type": "markdown",
      "metadata": {
        "id": "i9XhsWG7bBhE",
        "colab_type": "text"
      },
      "source": [
        "## SQL"
      ]
    },
    {
      "cell_type": "code",
      "metadata": {
        "id": "LeM5I2BqbDma",
        "colab_type": "code",
        "colab": {}
      },
      "source": [
        "from flask_ngrok import run_with_ngrok\n",
        "from flask import Flask, render_template\n",
        "from flask import request\n",
        "import sqlite3\n",
        "app = Flask(__name__)\n",
        "run_with_ngrok(app)\n",
        "\n",
        "def get_stock_datas(stock_id):\n",
        "    conn = sqlite3.connect('stocks.db')\n",
        "    sql = \"\"\"\n",
        "        SELECT `date`, `open`, `high`, `low`, `close`, `volume`\n",
        "        FROM `stock_date`\n",
        "        WHERE `stock_id` = {}\n",
        "        ORDER BY `date`\n",
        "    \"\"\".format(stock_id)\n",
        "    cursor = conn.execute(sql)\n",
        "    datas = cursor.fetchall()\n",
        "    return datas\n",
        "\n",
        "@app.route(\"/\")\n",
        "def home():\n",
        "    resp = \"\"\"Welcome to Stock Board \n",
        "    <br> \n",
        "    <a href='/stock/2330'>進入2330股票頁(路徑)</a> \n",
        "    <br> \n",
        "    <a href='/stock?stock_id=2330'>進入2330股票頁(參數)</a>\n",
        "    \"\"\"\n",
        "    return resp\n",
        "\n",
        "@app.route(\"/stock/<stock_id>\")\n",
        "def get_stock_path(stock_id):\n",
        "    return render_template(\"stock.html\", stock_id=stock_id, datas = get_stock_datas(stock_id))\n",
        "\n",
        "@app.route(\"/stock\")\n",
        "def get_stock_param():\n",
        "    stock_id = request.args.get('stock_id')\n",
        "    return render_template(\"stock.html\", stock_id=stock_id, datas = get_stock_datas(stock_id))\n",
        "\n",
        "app.run()"
      ],
      "execution_count": 0,
      "outputs": []
    },
    {
      "cell_type": "markdown",
      "metadata": {
        "id": "sAIQtUU_XDZB",
        "colab_type": "text"
      },
      "source": [
        "#### [練習]\n",
        "延續上一個練習，參數 date_start 是為 sql 的條件：  \n",
        "搜尋此日期(包含) 後的結果\n",
        "- 注意日期是文字格式\n"
      ]
    },
    {
      "cell_type": "markdown",
      "metadata": {
        "id": "lm0tyXnMbE2X",
        "colab_type": "text"
      },
      "source": [
        "## [Bootstrap](https://getbootstrap.com/)\n",
        "- 包含 HTML、CSS及JavaScript的前端框架，有許多已經設定好的元素，方便開發\n",
        "\n",
        "## [DataTables](https://datatables.net/)\n",
        "- jQuery 套件，讓表格可以有更多功能操作\n",
        "    - jQuery：JavaScript函式庫，簡化 HTML 與 JavaScript 之間的操作\n",
        "- 此套件會把所有結果按照套件設定重新排序，亦即不會依照原先資料的排序"
      ]
    },
    {
      "cell_type": "markdown",
      "metadata": {
        "id": "WpQ0ZuRGc3cM",
        "colab_type": "text"
      },
      "source": [
        "![](https://simpliv.files.wordpress.com/2018/04/learn-the-foundations-of-html-css-javascript-from-experts12.gif?w=640)"
      ]
    },
    {
      "cell_type": "code",
      "metadata": {
        "id": "xZyIf9d-bHcD",
        "colab_type": "code",
        "colab": {}
      },
      "source": [
        "!pip install flask-bootstrap"
      ],
      "execution_count": 0,
      "outputs": []
    },
    {
      "cell_type": "markdown",
      "metadata": {
        "id": "3KvvDyEqegi3",
        "colab_type": "text"
      },
      "source": [
        "### [Templates下載](https://github.com/MarsW/slides/tree/master/codes/flask/stock/templates)\n",
        "- b_index.html\n",
        "- b_stock.html\n",
        "- bd_stock.html"
      ]
    },
    {
      "cell_type": "code",
      "metadata": {
        "id": "sq-wHwyUbLev",
        "colab_type": "code",
        "colab": {}
      },
      "source": [
        "from flask_ngrok import run_with_ngrok\n",
        "from flask import Flask, render_template\n",
        "from flask import request\n",
        "from flask_bootstrap import Bootstrap\n",
        "app = Flask(__name__)\n",
        "bootstrap = Bootstrap(app)\n",
        "run_with_ngrok(app)\n",
        "\n",
        "def get_stock_datas(stock_id):\n",
        "    conn = sqlite3.connect('stocks.db')\n",
        "    sql = \"\"\"\n",
        "        SELECT `date`, `open`, `high`, `low`, `close`, `volume`\n",
        "        FROM `stock_date`\n",
        "        WHERE `stock_id` = {}\n",
        "        ORDER BY `date`\n",
        "    \"\"\".format(stock_id)\n",
        "    cursor = conn.execute(sql)\n",
        "    datas = cursor.fetchall()\n",
        "    return datas\n",
        "\n",
        "@app.route(\"/\")\n",
        "def home():\n",
        "    return render_template(\"b_index.html\")\n",
        "\n",
        "@app.route(\"/stock/<stock_id>\")\n",
        "def get_stock_path(stock_id):\n",
        "    return render_template(\"b_stock.html\", stock_id=stock_id, datas = get_stock_datas(stock_id))\n",
        "\n",
        "@app.route(\"/stock\")\n",
        "def get_stock_param():\n",
        "    stock_id = request.args.get('stock_id')\n",
        "    return render_template(\"bd_stock.html\", stock_id=stock_id, datas = get_stock_datas(stock_id))\n",
        "\n",
        "app.run()"
      ],
      "execution_count": 0,
      "outputs": []
    },
    {
      "cell_type": "markdown",
      "metadata": {
        "id": "LpS5-_TAUVbE",
        "colab_type": "text"
      },
      "source": [
        "## 學習資源\n",
        "- [Flask Web 開發實戰](https://tw.pyladies.com/events/topic.html?id=35)\n",
        "    - [Flask Web 開發:基於 Python 的 Web 應用開發實戰](https://www.tenlong.com.tw/products/9787115373991)\n",
        "- 學習地圖\n",
        "    - [前端](https://softnshare.com/webfrontendprogrammer/)\n",
        "    - [後端](https://softnshare.com/backenddeveloper/)\n",
        "        - VPS 主機：Linode, DigitalOcean, GCP, AWS, Azure\n",
        "            - [鳥哥的 Linux 私房菜](http://linux.vbird.org/)\n"
      ]
    }
  ]
}